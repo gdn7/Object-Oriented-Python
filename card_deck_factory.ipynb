{
 "cells": [
  {
   "cell_type": "code",
   "execution_count": 1,
   "metadata": {},
   "outputs": [],
   "source": [
    "from enum import Enum\n",
    "\n",
    "class Suit(str, Enum):\n",
    "    Club = \"\\N{BLACK CLUB SUIT}\"\n",
    "    Diamond = \"\\N{BLACK DIAMOND SUIT}\"\n",
    "    Heart = \"\\N{BLACK HEART SUIT}\"\n",
    "    Spade = \"\\N{BLACK SPADE SUIT}\""
   ]
  },
  {
   "cell_type": "code",
   "execution_count": 6,
   "metadata": {},
   "outputs": [
    {
     "data": {
      "text/plain": [
       "'♣'"
      ]
     },
     "execution_count": 6,
     "metadata": {},
     "output_type": "execute_result"
    }
   ],
   "source": [
    "Suit.Club.value"
   ]
  },
  {
   "cell_type": "code",
   "execution_count": 2,
   "metadata": {},
   "outputs": [],
   "source": [
    "from typing import Tuple\n",
    "\n",
    "class Card:\n",
    "    def __init__(self, rank: str, suit: str) -> None:\n",
    "        self.suit = suit\n",
    "        self.rank = rank\n",
    "        self.hard, self.soft = self._points()\n",
    "        \n",
    "    def _points(self) -> Tuple[int, int]:\n",
    "        return int(self.rank), int(self.rank)\n",
    "    \n",
    "    def __str__(self) -> str:\n",
    "        return f\"{self.suit.name} {self.rank}\"\n",
    "    \n",
    "class AceCard(Card):\n",
    "    def _points(self) -> Tuple[int, int]:\n",
    "        return 1, 11\n",
    "\n",
    "class FaceCard(Card):\n",
    "    def _points(self) -> Tuple[int, int]:\n",
    "        return 10, 10"
   ]
  },
  {
   "cell_type": "code",
   "execution_count": 3,
   "metadata": {},
   "outputs": [],
   "source": [
    "def card(rank: int, suit: Suit) -> Card:\n",
    "    if rank == 1:\n",
    "        return AceCard(\"A\", suit)\n",
    "    elif 2 <= rank < 11:\n",
    "        return Card(str(rank), suit)\n",
    "    elif 11 <= rank < 14:\n",
    "        name = {11: \"J\", 12: \"Q\", 13: \"K\"}\n",
    "        return FaceCard(name[rank], suit)\n",
    "    # the use of catch-all else if subject to debate\n",
    "    raise Exception(\"Design Failure\")\n",
    "    \n",
    "def card2(rank: int, suit: Suit):\n",
    "    class_, rank_str = {\n",
    "        1: (AceCard, \"A\"), \n",
    "        11: (FaceCard, \"J\"), \n",
    "        12: (FaceCard, \"Q\"), \n",
    "        13: (FaceCard, \"K\")}.get(rank, (Card, str(rank)))\n",
    "    return class_(rank_str, suit)\n",
    "\n",
    "def card3(rank: int, suit: Suit):\n",
    "    class_rank = {\n",
    "        1: lambda suit: AceCard(rank, suit), \n",
    "        11: lambda suit: FaceCard(rank, suit),\n",
    "        12: lambda suit: FaceCard(rank, suit),\n",
    "        13: lambda suit: FaceCard(rank, suit)}.get(rank, lambda suit: Card(str(rank), suit))\n",
    "    return class_rank(suit)"
   ]
  },
  {
   "cell_type": "code",
   "execution_count": 4,
   "metadata": {},
   "outputs": [
    {
     "data": {
      "text/plain": [
       "52"
      ]
     },
     "execution_count": 4,
     "metadata": {},
     "output_type": "execute_result"
    }
   ],
   "source": [
    "deck = [card3(rank, suit)\n",
    "       for suit in iter(Suit)\n",
    "       for rank in range(1, 14)]\n",
    "\n",
    "len(deck)"
   ]
  },
  {
   "cell_type": "code",
   "execution_count": 5,
   "metadata": {},
   "outputs": [
    {
     "name": "stdout",
     "output_type": "stream",
     "text": [
      "Club 1\n",
      "Club 2\n",
      "Club 3\n",
      "Club 4\n",
      "Club 5\n",
      "Club 6\n",
      "Club 7\n",
      "Club 8\n",
      "Club 9\n",
      "Club 10\n",
      "Club 11\n",
      "Club 12\n",
      "Club 13\n",
      "Diamond 1\n",
      "Diamond 2\n",
      "Diamond 3\n",
      "Diamond 4\n",
      "Diamond 5\n",
      "Diamond 6\n",
      "Diamond 7\n",
      "Diamond 8\n",
      "Diamond 9\n",
      "Diamond 10\n",
      "Diamond 11\n",
      "Diamond 12\n",
      "Diamond 13\n",
      "Heart 1\n",
      "Heart 2\n",
      "Heart 3\n",
      "Heart 4\n",
      "Heart 5\n",
      "Heart 6\n",
      "Heart 7\n",
      "Heart 8\n",
      "Heart 9\n",
      "Heart 10\n",
      "Heart 11\n",
      "Heart 12\n",
      "Heart 13\n",
      "Spade 1\n",
      "Spade 2\n",
      "Spade 3\n",
      "Spade 4\n",
      "Spade 5\n",
      "Spade 6\n",
      "Spade 7\n",
      "Spade 8\n",
      "Spade 9\n",
      "Spade 10\n",
      "Spade 11\n",
      "Spade 12\n",
      "Spade 13\n"
     ]
    }
   ],
   "source": [
    "for c in deck:\n",
    "    print(c)"
   ]
  },
  {
   "cell_type": "code",
   "execution_count": null,
   "metadata": {},
   "outputs": [],
   "source": []
  }
 ],
 "metadata": {
  "kernelspec": {
   "display_name": "Python 3",
   "language": "python",
   "name": "python3"
  },
  "language_info": {
   "codemirror_mode": {
    "name": "ipython",
    "version": 3
   },
   "file_extension": ".py",
   "mimetype": "text/x-python",
   "name": "python",
   "nbconvert_exporter": "python",
   "pygments_lexer": "ipython3",
   "version": "3.7.0"
  }
 },
 "nbformat": 4,
 "nbformat_minor": 2
}
